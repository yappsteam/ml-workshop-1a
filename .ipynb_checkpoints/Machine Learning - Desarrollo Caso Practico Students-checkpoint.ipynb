{
 "cells": [
  {
   "cell_type": "markdown",
   "metadata": {},
   "source": [
    "# Machine Learning - Desarrollo Caso Practico"
   ]
  },
  {
   "cell_type": "markdown",
   "metadata": {},
   "source": [
    "Bienvenido, en este notebook, vamos a desarrollar nuestro caso practico usando el modelo que discutimos en las diapositivas. Antes de ello, vamos a familiarizarnos con el entorno. Primero, un __notebook__ es un entorno en donde podemos ejecutar código python, el cogido se escribe en __celdas__, para poder ejecutar el código, debes de primero colocarte sobre la celda (click en ella) y después puedes presionar sobre el botón __Run__ ubicado en la parte superior."
   ]
  },
  {
   "cell_type": "markdown",
   "metadata": {},
   "source": [
    "![bar_run](./images/bar_run.png)"
   ]
  },
  {
   "cell_type": "markdown",
   "metadata": {},
   "source": [
    "Ahora ejecutemos una operación matemática simple, presiona sobre la siguiente __celda__ y a continuación presiona sobre el botón __Run__"
   ]
  },
  {
   "cell_type": "code",
   "execution_count": null,
   "metadata": {},
   "outputs": [],
   "source": [
    "(5 * 2) + 10 / 12"
   ]
  },
  {
   "cell_type": "markdown",
   "metadata": {},
   "source": [
    "Genial!, se ha ejecutado correctamente, puedes observar el resultado de la operación: __10.83__, puedes usar el botón __Run__ para ejecutar el código, o, si deseas, también puedes usar la combinación de teclas: __shift + enter__, solamente no olvides posicionarte sobre la __celda__ que deseas ejecutar haciendo click sobre ella."
   ]
  },
  {
   "cell_type": "markdown",
   "metadata": {},
   "source": [
    "# Data Set"
   ]
  },
  {
   "cell_type": "markdown",
   "metadata": {},
   "source": [
    "![](images/house.png)"
   ]
  },
  {
   "cell_type": "markdown",
   "metadata": {},
   "source": [
    "Este data set contiene información recopilada por el Servicio del Censo de los EE. UU. En relación con la vivienda en el área de Boston Mass; el objetivo es lograr predecir el precio que tendrán los inmuebles usando las siguientes características:"
   ]
  },
  {
   "cell_type": "markdown",
   "metadata": {},
   "source": [
    "|__N__|__Nombre__|__Descripcion__|\n",
    "|-----|----------|---------------|\n",
    "|1|CRIM|Tasa de criminalidad per cápita por ciudad.|\n",
    "|2|ZN|Proporción de terreno residencial dividido en zonas para lotes de más de 25,000 pies cuadrados.|\n",
    "|3|INDUS|Proporción de acres de negocios no minoristas por ciudad.|\n",
    "|4|CHAS|Variable ficticia de Charles River (1 si el tramo limita el río, 0 de lo contrario)|\n",
    "|5|NOX|Concentración de óxidos nítricos (partes por 10 millones)|\n",
    "|6|RM|Número promedio de habitaciones por vivienda|\n",
    "|7|EDAD|Proporción de unidades ocupadas por sus propietarios construidas antes de 1940|\n",
    "|8|DIS|Distancia ponderada a cinco centros de empleo de Boston|\n",
    "|9|RAD|Índice de accesibilidad a las autopistas radiales|\n",
    "|10|IMPUESTO|Tasa de impuesto a la propiedad de valor completo por \\$ 10,000|\n",
    "|11|PTRATIO|Proporción alumnos por profesor por ciudad|\n",
    "|12|LSTAT|Porcentaje de estado inferior de la población|\n",
    "|13|price|Valor medio de las viviendas ocupadas por sus propietarios en \\$ 1000|\n",
    "\n",
    "__Nota:__ Esta versión contiene una columna menos que la original"
   ]
  },
  {
   "cell_type": "markdown",
   "metadata": {},
   "source": [
    "# Librerias"
   ]
  },
  {
   "cell_type": "code",
   "execution_count": 2,
   "metadata": {},
   "outputs": [],
   "source": [
    "import numpy as np\n",
    "import pandas as pd\n",
    "from sklearn.linear_model import LinearRegression\n",
    "from sklearn.model_selection import train_test_split\n",
    "from sklearn.metrics import r2_score\n",
    "from sklearn.preprocessing import Normalizer\n",
    "import matplotlib.pyplot as plt\n",
    "import seaborn as sea\n",
    "from scripts_ import *\n",
    "sea.set()\n",
    "%matplotlib inline"
   ]
  },
  {
   "cell_type": "code",
   "execution_count": 3,
   "metadata": {},
   "outputs": [],
   "source": [
    "np.random.seed(5)"
   ]
  },
  {
   "cell_type": "markdown",
   "metadata": {},
   "source": [
    "# Metodologia Basica"
   ]
  },
  {
   "cell_type": "markdown",
   "metadata": {},
   "source": [
    "![](./images/basic_methodology.png)"
   ]
  },
  {
   "cell_type": "markdown",
   "metadata": {},
   "source": [
    "# Raw Data"
   ]
  },
  {
   "cell_type": "markdown",
   "metadata": {},
   "source": [
    "## Reading"
   ]
  },
  {
   "cell_type": "code",
   "execution_count": 4,
   "metadata": {},
   "outputs": [],
   "source": [
    "def read_train_data():\n",
    "    '''Esta funcion lee los datos de entrenamiento\n",
    "    argumentos\n",
    "    ---\n",
    "    regresa\n",
    "    X, y -- datos de entrenamiento y targets\n",
    "    '''\n",
    "    X = pd.read_csv('./data/train_data.csv', sep = ',')\n",
    "    y = pd.read_csv('./data/y_train.csv', sep = ',')\n",
    "    \n",
    "    # INGRESAR SU RESPUESTA DEBAJO\n",
    "    return ...\n",
    "\n",
    "def read_test_data():\n",
    "    '''\n",
    "    Esta funcion lee los datos de prueba\n",
    "    argumentos\n",
    "    ---\n",
    "    regresa\n",
    "    X_test, y_test -- datos de prueba y targets\n",
    "    '''\n",
    "    X_test = pd.read_csv('./data/test_data.csv', sep = ',')\n",
    "    y_test = pd.read_csv('./data/y_test.csv', sep = ',')\n",
    "    \n",
    "    # INGRESAR SU RESPUESTA DEBAJO\n",
    "    return ..."
   ]
  },
  {
   "cell_type": "markdown",
   "metadata": {},
   "source": [
    "## Training Data"
   ]
  },
  {
   "cell_type": "code",
   "execution_count": 5,
   "metadata": {},
   "outputs": [],
   "source": [
    "X, y = read_train_data()"
   ]
  },
  {
   "cell_type": "code",
   "execution_count": null,
   "metadata": {},
   "outputs": [],
   "source": [
    "X.head(7)"
   ]
  },
  {
   "cell_type": "code",
   "execution_count": null,
   "metadata": {},
   "outputs": [],
   "source": [
    "X.shape"
   ]
  },
  {
   "cell_type": "markdown",
   "metadata": {},
   "source": [
    "## Test Data"
   ]
  },
  {
   "cell_type": "code",
   "execution_count": 9,
   "metadata": {},
   "outputs": [],
   "source": [
    "X_test, y_test = read_test_data()"
   ]
  },
  {
   "cell_type": "code",
   "execution_count": null,
   "metadata": {},
   "outputs": [],
   "source": [
    "X_test.shape"
   ]
  },
  {
   "cell_type": "code",
   "execution_count": null,
   "metadata": {},
   "outputs": [],
   "source": [
    "X_test.head(7)"
   ]
  },
  {
   "cell_type": "markdown",
   "metadata": {},
   "source": [
    "# Pre Processing"
   ]
  },
  {
   "cell_type": "code",
   "execution_count": 13,
   "metadata": {},
   "outputs": [],
   "source": [
    "def pre_processing(X, y):\n",
    "    '''\n",
    "    Esta fucion implementa normalizacion\n",
    "    argumentos\n",
    "    X -- datos de entrenamiento\n",
    "    y -- targets\n",
    "    \n",
    "    regresa\n",
    "    X_norm -- datos normalizados\n",
    "    norm_data -- normalizador\n",
    "    '''\n",
    "    # Ingresa tu codigo en los (...)\n",
    "    norm_data = Normalizer().fit(...)\n",
    "    X_norm = norm_data.transform(X)\n",
    "    return X_norm, norm_data"
   ]
  },
  {
   "cell_type": "code",
   "execution_count": 14,
   "metadata": {},
   "outputs": [],
   "source": [
    "X_norm, norm_data = pre_processing(X, y)"
   ]
  },
  {
   "cell_type": "markdown",
   "metadata": {},
   "source": [
    "Una vez que tenemos nuestros datos de entrenamiento __normalizados__, echémosle un vistazo, para ver como difieren de los datos de entrenamiento originales y de los datos de prueba. Para ello usaremos __pandas__, en especifico el comando __head(n)__ nos permite visualizar los __n__ primeros elementos de los datos, en este caso vamos a usar __n = 3__."
   ]
  },
  {
   "cell_type": "code",
   "execution_count": 15,
   "metadata": {},
   "outputs": [
    {
     "data": {
      "text/html": [
       "<div>\n",
       "<style scoped>\n",
       "    .dataframe tbody tr th:only-of-type {\n",
       "        vertical-align: middle;\n",
       "    }\n",
       "\n",
       "    .dataframe tbody tr th {\n",
       "        vertical-align: top;\n",
       "    }\n",
       "\n",
       "    .dataframe thead th {\n",
       "        text-align: right;\n",
       "    }\n",
       "</style>\n",
       "<table border=\"1\" class=\"dataframe\">\n",
       "  <thead>\n",
       "    <tr style=\"text-align: right;\">\n",
       "      <th></th>\n",
       "      <th>0</th>\n",
       "      <th>1</th>\n",
       "      <th>2</th>\n",
       "      <th>3</th>\n",
       "      <th>4</th>\n",
       "      <th>5</th>\n",
       "      <th>6</th>\n",
       "      <th>7</th>\n",
       "      <th>8</th>\n",
       "      <th>9</th>\n",
       "      <th>10</th>\n",
       "      <th>11</th>\n",
       "    </tr>\n",
       "  </thead>\n",
       "  <tbody>\n",
       "    <tr>\n",
       "      <th>0</th>\n",
       "      <td>0.000827</td>\n",
       "      <td>0.0</td>\n",
       "      <td>0.025317</td>\n",
       "      <td>0.0</td>\n",
       "      <td>0.001691</td>\n",
       "      <td>0.020868</td>\n",
       "      <td>0.149914</td>\n",
       "      <td>0.018579</td>\n",
       "      <td>0.017153</td>\n",
       "      <td>0.984561</td>\n",
       "      <td>0.067238</td>\n",
       "      <td>0.043876</td>\n",
       "    </tr>\n",
       "    <tr>\n",
       "      <th>1</th>\n",
       "      <td>0.000237</td>\n",
       "      <td>0.0</td>\n",
       "      <td>0.031964</td>\n",
       "      <td>0.0</td>\n",
       "      <td>0.001089</td>\n",
       "      <td>0.015661</td>\n",
       "      <td>0.112112</td>\n",
       "      <td>0.011218</td>\n",
       "      <td>0.012457</td>\n",
       "      <td>0.991572</td>\n",
       "      <td>0.046589</td>\n",
       "      <td>0.022273</td>\n",
       "    </tr>\n",
       "    <tr>\n",
       "      <th>2</th>\n",
       "      <td>0.004986</td>\n",
       "      <td>0.0</td>\n",
       "      <td>0.025165</td>\n",
       "      <td>0.0</td>\n",
       "      <td>0.001663</td>\n",
       "      <td>0.018846</td>\n",
       "      <td>0.299568</td>\n",
       "      <td>0.011624</td>\n",
       "      <td>0.012366</td>\n",
       "      <td>0.949097</td>\n",
       "      <td>0.064922</td>\n",
       "      <td>0.062882</td>\n",
       "    </tr>\n",
       "  </tbody>\n",
       "</table>\n",
       "</div>"
      ],
      "text/plain": [
       "         0    1         2    3         4         5         6         7   \\\n",
       "0  0.000827  0.0  0.025317  0.0  0.001691  0.020868  0.149914  0.018579   \n",
       "1  0.000237  0.0  0.031964  0.0  0.001089  0.015661  0.112112  0.011218   \n",
       "2  0.004986  0.0  0.025165  0.0  0.001663  0.018846  0.299568  0.011624   \n",
       "\n",
       "         8         9         10        11  \n",
       "0  0.017153  0.984561  0.067238  0.043876  \n",
       "1  0.012457  0.991572  0.046589  0.022273  \n",
       "2  0.012366  0.949097  0.064922  0.062882  "
      ]
     },
     "execution_count": 15,
     "metadata": {},
     "output_type": "execute_result"
    }
   ],
   "source": [
    "pd.DataFrame(X_norm).head(3)"
   ]
  },
  {
   "cell_type": "markdown",
   "metadata": {},
   "source": [
    "Bien!, ahora es tu turno, utiliza el comando __head__ con un valor __n__ de __3__ para visualizar los datos de entrenamiento __X__"
   ]
  },
  {
   "cell_type": "code",
   "execution_count": null,
   "metadata": {},
   "outputs": [],
   "source": [
    "X.head(...) # inserta tu codigo en los (...)"
   ]
  },
  {
   "cell_type": "markdown",
   "metadata": {},
   "source": [
    "Ahora hagamos lo mismo con los datos de prueba __X_test__"
   ]
  },
  {
   "cell_type": "code",
   "execution_count": null,
   "metadata": {},
   "outputs": [],
   "source": [
    "X_test.head(...) # inserta tu codigo en los (...)"
   ]
  },
  {
   "cell_type": "markdown",
   "metadata": {},
   "source": [
    "# Training Process"
   ]
  },
  {
   "cell_type": "markdown",
   "metadata": {},
   "source": [
    "## Split Data"
   ]
  },
  {
   "cell_type": "markdown",
   "metadata": {},
   "source": [
    "Ya hemos cargando nuestros datos de entrenamiento y prueba (test) respectivamente, no obstante aun necesitamos aplicar la normalización a nuestros datos de prueba, eso lo podemos realizar usando el objeto __norm_data__ que obtuvimos en el proceso de normalización, para ello simplemente tenemos que pasar los datos de prueba __X_test__"
   ]
  },
  {
   "cell_type": "code",
   "execution_count": 18,
   "metadata": {},
   "outputs": [],
   "source": [
    "X_test_norm = norm_data.transform(X_test)"
   ]
  },
  {
   "cell_type": "markdown",
   "metadata": {},
   "source": [
    "Antes de proceder comparemos los datos de prueba __X_test__ con su versión normalizada __X_test_norm__, para ello usaremos nuevamente el comando __head(n)__, recuerda usar __n = 3__"
   ]
  },
  {
   "cell_type": "code",
   "execution_count": 19,
   "metadata": {},
   "outputs": [
    {
     "data": {
      "text/html": [
       "<div>\n",
       "<style scoped>\n",
       "    .dataframe tbody tr th:only-of-type {\n",
       "        vertical-align: middle;\n",
       "    }\n",
       "\n",
       "    .dataframe tbody tr th {\n",
       "        vertical-align: top;\n",
       "    }\n",
       "\n",
       "    .dataframe thead th {\n",
       "        text-align: right;\n",
       "    }\n",
       "</style>\n",
       "<table border=\"1\" class=\"dataframe\">\n",
       "  <thead>\n",
       "    <tr style=\"text-align: right;\">\n",
       "      <th></th>\n",
       "      <th>0</th>\n",
       "      <th>1</th>\n",
       "      <th>2</th>\n",
       "      <th>3</th>\n",
       "      <th>4</th>\n",
       "      <th>5</th>\n",
       "      <th>6</th>\n",
       "      <th>7</th>\n",
       "      <th>8</th>\n",
       "      <th>9</th>\n",
       "      <th>10</th>\n",
       "      <th>11</th>\n",
       "    </tr>\n",
       "  </thead>\n",
       "  <tbody>\n",
       "    <tr>\n",
       "      <th>0</th>\n",
       "      <td>0.001195</td>\n",
       "      <td>0.000000</td>\n",
       "      <td>0.019392</td>\n",
       "      <td>0.0</td>\n",
       "      <td>0.001576</td>\n",
       "      <td>0.025147</td>\n",
       "      <td>0.270548</td>\n",
       "      <td>0.010058</td>\n",
       "      <td>0.025022</td>\n",
       "      <td>0.960212</td>\n",
       "      <td>0.054422</td>\n",
       "      <td>0.009790</td>\n",
       "    </tr>\n",
       "    <tr>\n",
       "      <th>1</th>\n",
       "      <td>0.000139</td>\n",
       "      <td>0.307979</td>\n",
       "      <td>0.019056</td>\n",
       "      <td>0.0</td>\n",
       "      <td>0.001582</td>\n",
       "      <td>0.025524</td>\n",
       "      <td>0.090084</td>\n",
       "      <td>0.019698</td>\n",
       "      <td>0.015399</td>\n",
       "      <td>0.943186</td>\n",
       "      <td>0.073915</td>\n",
       "      <td>0.018094</td>\n",
       "    </tr>\n",
       "    <tr>\n",
       "      <th>2</th>\n",
       "      <td>0.000168</td>\n",
       "      <td>0.000000</td>\n",
       "      <td>0.012231</td>\n",
       "      <td>0.0</td>\n",
       "      <td>0.001754</td>\n",
       "      <td>0.023016</td>\n",
       "      <td>0.237086</td>\n",
       "      <td>0.011091</td>\n",
       "      <td>0.007174</td>\n",
       "      <td>0.968431</td>\n",
       "      <td>0.063845</td>\n",
       "      <td>0.031600</td>\n",
       "    </tr>\n",
       "  </tbody>\n",
       "</table>\n",
       "</div>"
      ],
      "text/plain": [
       "         0         1         2    3         4         5         6         7   \\\n",
       "0  0.001195  0.000000  0.019392  0.0  0.001576  0.025147  0.270548  0.010058   \n",
       "1  0.000139  0.307979  0.019056  0.0  0.001582  0.025524  0.090084  0.019698   \n",
       "2  0.000168  0.000000  0.012231  0.0  0.001754  0.023016  0.237086  0.011091   \n",
       "\n",
       "         8         9         10        11  \n",
       "0  0.025022  0.960212  0.054422  0.009790  \n",
       "1  0.015399  0.943186  0.073915  0.018094  \n",
       "2  0.007174  0.968431  0.063845  0.031600  "
      ]
     },
     "execution_count": 19,
     "metadata": {},
     "output_type": "execute_result"
    }
   ],
   "source": [
    "pd.DataFrame(X_test_norm).head(3)"
   ]
  },
  {
   "cell_type": "code",
   "execution_count": null,
   "metadata": {},
   "outputs": [],
   "source": [
    "X_test.head(...) #inserta tu codigo aqui"
   ]
  },
  {
   "cell_type": "markdown",
   "metadata": {},
   "source": [
    "Excelente, como podrás notar, los datos normalizados difieren de los datos originales, ya sea en su versión de entrenamiento o prueba, esto se debe a que la normalización __\"centra\"__ los datos, es decir trata de encontrar el valor en el que se encuentra distribuidos los datos."
   ]
  },
  {
   "cell_type": "markdown",
   "metadata": {},
   "source": [
    "## Algorithms"
   ]
  },
  {
   "cell_type": "markdown",
   "metadata": {},
   "source": [
    "El modelo que usaremos es el descrito en las diapositivas, el cual recibe el nombre de regresión lineal, como vimos, este modelo puede ser aplicado no solo a 1 dimensión, sino que se puede generalizar a varias dimensiones de la siguiente manera:"
   ]
  },
  {
   "cell_type": "markdown",
   "metadata": {},
   "source": [
    "![model](./images/model.png)"
   ]
  },
  {
   "cell_type": "markdown",
   "metadata": {},
   "source": [
    "Para definir nuestro modelo seguiremos los siguientes pasos:\n",
    "1. Primero crearemos una función llamada __linear_regression__\n",
    "\n",
    "    ```python\n",
    "    def linear_regression():\n",
    "    ```\n",
    "\n",
    "2. Como hemos visto hasta ahora, para que nuestro modelo pueda aprender necesitamos los datos de entrenamiento __X__ y los targets __y__, por ende estos serán las entradas de nuestra función __linear_regression__\n",
    "\n",
    "    ```python\n",
    "    def linear_regression(X, y):\n",
    "    ```\n",
    "3. Ahora usaremos una variable para definir nuestro modelo llamada __model__\n",
    "\n",
    "    ```python\n",
    "    def linear_regression(X, y):\n",
    "         model = ...\n",
    "    ```\n",
    "4. Usando el comando __LinearRegression()__ podemos crear el modelo\n",
    "\n",
    "    ```python\n",
    "    def linear_regression(X, y):\n",
    "         model = LinearRegression()\n",
    "    ```\n",
    "5. Debemos definir que hiper-parámetros se usaran; en el caso del modelo de regresión lineal usaremos: __normalize = True__ y __fit_intercept = True__.\n",
    "    ```python\n",
    "    def linear_regression(X, y):\n",
    "         model = LinearRegression(normalize = True, fit_intercept = True)\n",
    "    ```\n",
    "6. Una vez hecho eso, podemos entrenar nuestro modelo, para ello usaremos el comando __fit__, el cual recibirá los datos de entrenamiento __X__ y targets __y__\n",
    "    ```python\n",
    "    def linear_regression(X, y):\n",
    "         model = LinearRegression(normalize = True, fit_intercept = True)\n",
    "         model.fit(X, y)\n",
    "    ```\n",
    "7. Finalmente retornamos nuestro modelo entrenado\n",
    "   ```python\n",
    "    def linear_regression(X, y):\n",
    "         model = LinearRegression(normalize = True, fit_intercept = True)\n",
    "         model.fit(X, y)\n",
    "         return ...\n",
    "    ```"
   ]
  },
  {
   "cell_type": "code",
   "execution_count": 21,
   "metadata": {},
   "outputs": [],
   "source": [
    "def linear_regression():\n",
    "    '''\n",
    "    Esta funcion crea y entrena un modelo de regresion lineal\n",
    "    argumentos\n",
    "    X, y -- datos de entrenamiento y targets\n",
    "    regresa\n",
    "    model -- modelo de regresion lineal entrenado\n",
    "    '''\n",
    "    # INSERTA TU CODIGO DEBAJO\n",
    "    return ..."
   ]
  },
  {
   "cell_type": "markdown",
   "metadata": {},
   "source": [
    "## Training"
   ]
  },
  {
   "cell_type": "markdown",
   "metadata": {},
   "source": [
    "Hora de entrenar nuestro modelo, en este caso vamos a entrenar dos modelos, uno de ellos se entrenara con los datos normalizados y el otro con los datos sin normalizar, recuerda que la __función linear_regression(X, y)__ que hemos definido toma dos argumentos, los datos __X__ y los targets __y__."
   ]
  },
  {
   "cell_type": "code",
   "execution_count": 22,
   "metadata": {},
   "outputs": [
    {
     "name": "stdout",
     "output_type": "stream",
     "text": [
      "Entrenamiento Iniciado\n",
      "Entrenamiento Completado\n",
      "Entrenamiento Iniciado\n",
      "Entrenamiento Completado\n"
     ]
    }
   ],
   "source": [
    "# Este modelo usara los datos normalizados X_norm\n",
    "modelo1 = linear_regression(...) # inserta tu codigo en los (...)\n",
    "# Y el segundo modelo usara los datos sin normalizar X\n",
    "modelo2 = linear_regression(...) # inserta tu codigo en los (...)"
   ]
  },
  {
   "cell_type": "markdown",
   "metadata": {},
   "source": [
    "## Predictions"
   ]
  },
  {
   "cell_type": "markdown",
   "metadata": {},
   "source": [
    "Felicidades!, ya has entrenado dos modelos!!, ahora, que tal si hacemos algunas predicciones, para ello debemos recordar que, los modelos necesitan los datos __X__ y __X_norm__ respectivamente para poder realizar predicciones; estos datos los usaremos de la siguiente manera: ___modelo1.predict(...)___. A las predicciones les denominaremos __y_hat__, como tenemos dos modelos, usaremos __y_hat_norm__ para referirnos al modelo que usa los datos normalizados y __y_hat__ para el modelo que usa los datos __X__"
   ]
  },
  {
   "cell_type": "markdown",
   "metadata": {},
   "source": [
    "### Training"
   ]
  },
  {
   "cell_type": "markdown",
   "metadata": {},
   "source": [
    "Comencemos con los datos de entrenamiento, para ello usaremos ___modelo1.predict(X)___ para los resultados de __y_hat__, ya que este modelo se entreno usando los datos originales __X__, y para __y_hat_norm__ usaremos ___modelo1.predict(X_norm)___"
   ]
  },
  {
   "cell_type": "code",
   "execution_count": 23,
   "metadata": {},
   "outputs": [],
   "source": [
    "# Completa los (...)\n",
    "y_hat = modelo2.predict(...)\n",
    "y_hat_norm = modelo1.predict(...)"
   ]
  },
  {
   "cell_type": "markdown",
   "metadata": {},
   "source": [
    "Ahora echemos un vistazo a lo que nuestros modelos predicen!!"
   ]
  },
  {
   "cell_type": "code",
   "execution_count": 24,
   "metadata": {},
   "outputs": [
    {
     "data": {
      "text/html": [
       "<div>\n",
       "<style scoped>\n",
       "    .dataframe tbody tr th:only-of-type {\n",
       "        vertical-align: middle;\n",
       "    }\n",
       "\n",
       "    .dataframe tbody tr th {\n",
       "        vertical-align: top;\n",
       "    }\n",
       "\n",
       "    .dataframe thead th {\n",
       "        text-align: right;\n",
       "    }\n",
       "</style>\n",
       "<table border=\"1\" class=\"dataframe\">\n",
       "  <thead>\n",
       "    <tr style=\"text-align: right;\">\n",
       "      <th></th>\n",
       "      <th>valores y originales</th>\n",
       "      <th>y_hat</th>\n",
       "      <th>y_hat_norm</th>\n",
       "    </tr>\n",
       "  </thead>\n",
       "  <tbody>\n",
       "    <tr>\n",
       "      <th>0</th>\n",
       "      <td>22.2</td>\n",
       "      <td>19.062556</td>\n",
       "      <td>18.804516</td>\n",
       "    </tr>\n",
       "    <tr>\n",
       "      <th>1</th>\n",
       "      <td>21.4</td>\n",
       "      <td>23.876561</td>\n",
       "      <td>23.996453</td>\n",
       "    </tr>\n",
       "    <tr>\n",
       "      <th>2</th>\n",
       "      <td>13.5</td>\n",
       "      <td>14.276546</td>\n",
       "      <td>14.456355</td>\n",
       "    </tr>\n",
       "    <tr>\n",
       "      <th>3</th>\n",
       "      <td>19.4</td>\n",
       "      <td>17.902439</td>\n",
       "      <td>17.751349</td>\n",
       "    </tr>\n",
       "    <tr>\n",
       "      <th>4</th>\n",
       "      <td>24.7</td>\n",
       "      <td>25.084858</td>\n",
       "      <td>24.209114</td>\n",
       "    </tr>\n",
       "    <tr>\n",
       "      <th>5</th>\n",
       "      <td>43.8</td>\n",
       "      <td>35.226664</td>\n",
       "      <td>38.874021</td>\n",
       "    </tr>\n",
       "    <tr>\n",
       "      <th>6</th>\n",
       "      <td>14.1</td>\n",
       "      <td>17.916197</td>\n",
       "      <td>19.099431</td>\n",
       "    </tr>\n",
       "  </tbody>\n",
       "</table>\n",
       "</div>"
      ],
      "text/plain": [
       "   valores y originales      y_hat  y_hat_norm\n",
       "0                  22.2  19.062556   18.804516\n",
       "1                  21.4  23.876561   23.996453\n",
       "2                  13.5  14.276546   14.456355\n",
       "3                  19.4  17.902439   17.751349\n",
       "4                  24.7  25.084858   24.209114\n",
       "5                  43.8  35.226664   38.874021\n",
       "6                  14.1  17.916197   19.099431"
      ]
     },
     "execution_count": 24,
     "metadata": {},
     "output_type": "execute_result"
    }
   ],
   "source": [
    "results_training = result_table(y, y_hat, y_hat_norm)\n",
    "results_training.head(7)"
   ]
  },
  {
   "cell_type": "markdown",
   "metadata": {},
   "source": [
    "__Pregunta de Taller:__ Que observaciones puedes notar?"
   ]
  },
  {
   "cell_type": "markdown",
   "metadata": {},
   "source": [
    "### Test"
   ]
  },
  {
   "cell_type": "markdown",
   "metadata": {},
   "source": [
    "Ahora hagamos lo mismo con los datos de prueba, para ello usaremos __X_test__ para __y_hat__ y __X_test_norm__ para __y_hat_norm__"
   ]
  },
  {
   "cell_type": "code",
   "execution_count": 25,
   "metadata": {},
   "outputs": [],
   "source": [
    "# Completa los (...)\n",
    "y_hat = modelo2.predict(...)\n",
    "y_hat_norm = modelo1.predict(...)"
   ]
  },
  {
   "cell_type": "markdown",
   "metadata": {},
   "source": [
    "Veamos los resultados"
   ]
  },
  {
   "cell_type": "code",
   "execution_count": 26,
   "metadata": {},
   "outputs": [
    {
     "data": {
      "text/html": [
       "<div>\n",
       "<style scoped>\n",
       "    .dataframe tbody tr th:only-of-type {\n",
       "        vertical-align: middle;\n",
       "    }\n",
       "\n",
       "    .dataframe tbody tr th {\n",
       "        vertical-align: top;\n",
       "    }\n",
       "\n",
       "    .dataframe thead th {\n",
       "        text-align: right;\n",
       "    }\n",
       "</style>\n",
       "<table border=\"1\" class=\"dataframe\">\n",
       "  <thead>\n",
       "    <tr style=\"text-align: right;\">\n",
       "      <th></th>\n",
       "      <th>valores y originales</th>\n",
       "      <th>y_hat</th>\n",
       "      <th>y_hat_norm</th>\n",
       "    </tr>\n",
       "  </thead>\n",
       "  <tbody>\n",
       "    <tr>\n",
       "      <th>0</th>\n",
       "      <td>37.6</td>\n",
       "      <td>38.065522</td>\n",
       "      <td>38.695965</td>\n",
       "    </tr>\n",
       "    <tr>\n",
       "      <th>1</th>\n",
       "      <td>27.9</td>\n",
       "      <td>32.012522</td>\n",
       "      <td>30.307269</td>\n",
       "    </tr>\n",
       "    <tr>\n",
       "      <th>2</th>\n",
       "      <td>22.6</td>\n",
       "      <td>27.220585</td>\n",
       "      <td>26.767393</td>\n",
       "    </tr>\n",
       "    <tr>\n",
       "      <th>3</th>\n",
       "      <td>13.8</td>\n",
       "      <td>3.500439</td>\n",
       "      <td>10.134246</td>\n",
       "    </tr>\n",
       "    <tr>\n",
       "      <th>4</th>\n",
       "      <td>35.2</td>\n",
       "      <td>35.868174</td>\n",
       "      <td>40.829790</td>\n",
       "    </tr>\n",
       "    <tr>\n",
       "      <th>5</th>\n",
       "      <td>10.4</td>\n",
       "      <td>7.284909</td>\n",
       "      <td>10.206643</td>\n",
       "    </tr>\n",
       "    <tr>\n",
       "      <th>6</th>\n",
       "      <td>23.9</td>\n",
       "      <td>28.092602</td>\n",
       "      <td>29.118654</td>\n",
       "    </tr>\n",
       "  </tbody>\n",
       "</table>\n",
       "</div>"
      ],
      "text/plain": [
       "   valores y originales      y_hat  y_hat_norm\n",
       "0                  37.6  38.065522   38.695965\n",
       "1                  27.9  32.012522   30.307269\n",
       "2                  22.6  27.220585   26.767393\n",
       "3                  13.8   3.500439   10.134246\n",
       "4                  35.2  35.868174   40.829790\n",
       "5                  10.4   7.284909   10.206643\n",
       "6                  23.9  28.092602   29.118654"
      ]
     },
     "execution_count": 26,
     "metadata": {},
     "output_type": "execute_result"
    }
   ],
   "source": [
    "results_test = result_table(y_test, y_hat, y_hat_norm)\n",
    "results_test.head(7)"
   ]
  },
  {
   "cell_type": "markdown",
   "metadata": {},
   "source": [
    "__Pregunta de Taller:__ Que observaciones puedes notar?"
   ]
  },
  {
   "cell_type": "markdown",
   "metadata": {},
   "source": [
    "## Metrics"
   ]
  },
  {
   "cell_type": "markdown",
   "metadata": {},
   "source": [
    "Como vimos en la definición de machine learning, necesitamos de una forma de medir que tanto nuestro modelo ha aprendido, para ello existen las métricas de evaluación, estas nos permiten determinar dos aspectos fundamentales:\n",
    "\n",
    "* El nivel de exactitud del modelo\n",
    "* El nivel de error\n",
    "\n",
    "En esta oportunidad estaremos usando la métrica __r score__, esta define de la siguiente manera:"
   ]
  },
  {
   "cell_type": "markdown",
   "metadata": {},
   "source": [
    "![r2_score](./images/r2_score.png)"
   ]
  },
  {
   "cell_type": "markdown",
   "metadata": {},
   "source": [
    "Ahora vamos a usar esta formula, para ello usaremos la __función r2_score__, esta función toma dos valores:\n",
    "* y: Los targets originales\n",
    "* y_hat: Los targets que predice nuestro modelo\n",
    "Primero vamos a calcular __y_hat__, para ello usaremos la variable __y_hat_tr__ para referirnos a los resultados de los datos de entrenamiento sin normalización y __y_hat_tr_norm__ con normalización respectivamente."
   ]
  },
  {
   "cell_type": "markdown",
   "metadata": {},
   "source": [
    "### Training"
   ]
  },
  {
   "cell_type": "code",
   "execution_count": 27,
   "metadata": {},
   "outputs": [],
   "source": [
    "y_hat_tr_norm= modelo1.predict(X_norm)\n",
    "y_hat_tr = modelo2.predict(X)"
   ]
  },
  {
   "cell_type": "markdown",
   "metadata": {},
   "source": [
    "### Test\n",
    "Ahora procederemos con los datos de prueba, para ello usaremos __y_hat_ts__ sin normalización y __y_hat_ts_norm__ con normalización"
   ]
  },
  {
   "cell_type": "code",
   "execution_count": 28,
   "metadata": {},
   "outputs": [],
   "source": [
    "y_hat_ts_norm = modelo1.predict(X_test_norm)\n",
    "y_hat_ts = modelo2.predict(X_test)"
   ]
  },
  {
   "cell_type": "markdown",
   "metadata": {},
   "source": [
    "Ahora aplicaremos __r score__, recuerda que ya hemos calculado __y__ e __y_hat__"
   ]
  },
  {
   "cell_type": "markdown",
   "metadata": {},
   "source": [
    "### Training Metrics"
   ]
  },
  {
   "cell_type": "markdown",
   "metadata": {},
   "source": [
    "Nuestro modelo con normalización en los datos de entrenamiento obtiene un aproximado de __0.72%__ de puntaje"
   ]
  },
  {
   "cell_type": "code",
   "execution_count": 29,
   "metadata": {},
   "outputs": [
    {
     "data": {
      "text/plain": [
       "0.7229693210852297"
      ]
     },
     "execution_count": 29,
     "metadata": {},
     "output_type": "execute_result"
    }
   ],
   "source": [
    "r2_score(y, y_hat_tr_norm)"
   ]
  },
  {
   "cell_type": "markdown",
   "metadata": {},
   "source": [
    "Mientras que el modelo sin normalización en los datos de entrenamiento obtiene un aproximado de __0.73%__ de puntaje"
   ]
  },
  {
   "cell_type": "code",
   "execution_count": 30,
   "metadata": {},
   "outputs": [
    {
     "data": {
      "text/plain": [
       "0.7331239261714271"
      ]
     },
     "execution_count": 30,
     "metadata": {},
     "output_type": "execute_result"
    }
   ],
   "source": [
    "r2_score(y, y_hat_tr)"
   ]
  },
  {
   "cell_type": "markdown",
   "metadata": {},
   "source": [
    "__Pregunta de Taller:__ Que observaciones puedes notar?"
   ]
  },
  {
   "cell_type": "markdown",
   "metadata": {},
   "source": [
    "### Test Metrics"
   ]
  },
  {
   "cell_type": "markdown",
   "metadata": {},
   "source": [
    "No obstante en los datos de prueba el modelo con normalización obtiene __0.83%__ de puntaje"
   ]
  },
  {
   "cell_type": "code",
   "execution_count": 31,
   "metadata": {},
   "outputs": [
    {
     "data": {
      "text/plain": [
       "0.8293030922289959"
      ]
     },
     "execution_count": 31,
     "metadata": {},
     "output_type": "execute_result"
    }
   ],
   "source": [
    "r2_score(y_test, y_hat_ts_norm)"
   ]
  },
  {
   "cell_type": "markdown",
   "metadata": {},
   "source": [
    "Mientras que nuestro modelo sin normalización solo obtiene un __0.72%__ de puntaje"
   ]
  },
  {
   "cell_type": "code",
   "execution_count": 32,
   "metadata": {},
   "outputs": [
    {
     "data": {
      "text/plain": [
       "0.71841737888484"
      ]
     },
     "execution_count": 32,
     "metadata": {},
     "output_type": "execute_result"
    }
   ],
   "source": [
    "r2_score(y_test, y_hat_ts)"
   ]
  },
  {
   "cell_type": "markdown",
   "metadata": {},
   "source": [
    "| Modelo | Datos | r score|\n",
    "|--------|-------|--------|\n",
    "| Modelo 1 | Entrenamiento | 0.72|\n",
    "| Modelo 2 | Entrenamiento | __0.73__|\n",
    "| Modelo 1 | Prueba | __0.83__|\n",
    "| Modelo 2 | Prueba | 0.72|"
   ]
  },
  {
   "cell_type": "markdown",
   "metadata": {},
   "source": [
    "__Pregunta de Taller:__ Que observaciones puedes notar?"
   ]
  },
  {
   "cell_type": "markdown",
   "metadata": {},
   "source": [
    "# Visualizations"
   ]
  },
  {
   "cell_type": "markdown",
   "metadata": {},
   "source": [
    "Buen trabajo, ya hemos entrenado y validado nuestro modelo, no obstante aun podemos hacer mas!, en esta sección analizaremos los resultados obtenidos desde una perspectiva mas grafica."
   ]
  },
  {
   "cell_type": "markdown",
   "metadata": {},
   "source": [
    "### Training"
   ]
  },
  {
   "cell_type": "markdown",
   "metadata": {},
   "source": [
    "Ejecuta la siguiente celda para visualizar los resultados en los datos de entrenamiento"
   ]
  },
  {
   "cell_type": "code",
   "execution_count": null,
   "metadata": {},
   "outputs": [],
   "source": [
    "plot_data_train = plot_data_results(y_hat_tr_norm, y_hat_tr, y)\n",
    "sea.lmplot(x = 'y_test', y = 'y_hat', data = plot_data_train, fit_reg = False, size = 7, col = 'modelo')"
   ]
  },
  {
   "cell_type": "markdown",
   "metadata": {},
   "source": [
    "### Test"
   ]
  },
  {
   "cell_type": "markdown",
   "metadata": {},
   "source": [
    "Ahora hagamos lo mismo con los datos de prueba."
   ]
  },
  {
   "cell_type": "code",
   "execution_count": null,
   "metadata": {},
   "outputs": [],
   "source": [
    "plot_data_test = plot_data_results(y_hat_ts_norm, y_hat_ts, y_test)\n",
    "sea.lmplot(x = 'y_test', y = 'y_hat', data = plot_data_test, fit_reg = False, size = 7, col = 'modelo')"
   ]
  },
  {
   "cell_type": "markdown",
   "metadata": {},
   "source": [
    "Perfecto, ya tenemos nuestras visualizaciones, ahora que tal si echamos un vistazo a los __coeficientes__ de nuestros modelos."
   ]
  },
  {
   "cell_type": "code",
   "execution_count": null,
   "metadata": {},
   "outputs": [],
   "source": [
    "coef_data = coef_info(list(X.columns), modelo1.coef_.T, modelo2.coef_.T)\n",
    "coef_data"
   ]
  },
  {
   "cell_type": "markdown",
   "metadata": {},
   "source": [
    "## Conclusiones\n",
    "Buen trabajo, has entrenado tu primer modelo de __Machine Learning__ :), aquí hay unas cuantas cosas que son importantes recordar:\n",
    "* El objetivo de Machine Learning es la creación de algoritmos (modelos) que puedan aprender de los datos (como hemos visto en este Taller).\n",
    "* El algoritmo de regresión lineal que has implementado es capaz de predecir exitosamente los precios de los inmuebles, gracias a que le has brindado datos __X__ y __y__ de donde aprenda.\n",
    "* Las métricas son usadas para evaluar que tanto nuestros algoritmos (modelos) han aprendido.\n",
    "* Si bien es cierto las métricas son importantes, usando gráficos podemos obtener información mas detallada acerca de los resultados que obtenemos.\n",
    "\n",
    "Finalmente, gracias por haber estado presente el día de hoy, esperamos que este Taller haya sido de tu agrado, no olvides visitar (__yappsteam__)[https://www.facebook.com/yappsteam/] en Facebook para enterarte de mas novedades :D"
   ]
  }
 ],
 "metadata": {
  "kernelspec": {
   "display_name": "Python 3",
   "language": "python",
   "name": "python3"
  },
  "language_info": {
   "codemirror_mode": {
    "name": "ipython",
    "version": 3
   },
   "file_extension": ".py",
   "mimetype": "text/x-python",
   "name": "python",
   "nbconvert_exporter": "python",
   "pygments_lexer": "ipython3",
   "version": "3.6.4"
  }
 },
 "nbformat": 4,
 "nbformat_minor": 2
}
